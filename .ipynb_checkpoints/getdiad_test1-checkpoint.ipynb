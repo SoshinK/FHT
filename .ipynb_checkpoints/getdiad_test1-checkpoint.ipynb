{
 "cells": [
  {
   "cell_type": "code",
   "execution_count": 34,
   "metadata": {},
   "outputs": [],
   "source": [
    "import numpy as np\n",
    "import cv2 as cv\n",
    "import matplotlib.pyplot as plt\n",
    "import fht\n",
    "from math import log2\n",
    "from math import floor\n",
    "from math import ceil\n",
    "%matplotlib inline"
   ]
  },
  {
   "cell_type": "code",
   "execution_count": 35,
   "metadata": {},
   "outputs": [],
   "source": [
    "channels = 3\n",
    "length = height = 64\n",
    "point1 = (5, 7)\n",
    "point2 = (7, 16)\n",
    "#point1 = (11, 4)\n",
    "#point2 = (13, 9)"
   ]
  },
  {
   "cell_type": "code",
   "execution_count": 36,
   "metadata": {},
   "outputs": [
    {
     "data": {
      "text/plain": [
       "<matplotlib.image.AxesImage at 0x7f6325d322e8>"
      ]
     },
     "execution_count": 36,
     "metadata": {},
     "output_type": "execute_result"
    },
    {
     "data": {
      "image/png": "[encoded data removed]",
      "text/plain": [
       "<Figure size 432x288 with 1 Axes>"
      ]
     },
     "metadata": {
      "needs_background": "light"
     },
     "output_type": "display_data"
    }
   ],
   "source": [
    "canvas = np.array([ [ [0] * channels for i in range(length)] for j in range(height)])\n",
    "plt.imshow(canvas)\n",
    "canvas[point1[0]][point1[1]] = (255, 255, 255)\n",
    "canvas[point2[0]][point2[1]] = (255, 255, 255)\n",
    "plt.imshow(canvas)"
   ]
  },
  {
   "cell_type": "code",
   "execution_count": 37,
   "metadata": {},
   "outputs": [
    {
     "name": "stdout",
     "output_type": "stream",
     "text": [
      "14\n",
      "[0 1 1 1 0 0]\n"
     ]
    }
   ],
   "source": [
    "s = floor(abs(point2[0] - point1[0]) / abs(point2[1] - point1[1]) * (length - 1))\n",
    "print(s)\n",
    "i = s\n",
    "p = int(log2(canvas.shape[0]))\n",
    "t_bytes = np.zeros(p, dtype=int)\n",
    "for j in range(p):\n",
    "    t_bytes[j] = i % 2\n",
    "    i = i // 2\n",
    "print(t_bytes)"
   ]
  },
  {
   "cell_type": "code",
   "execution_count": 38,
   "metadata": {},
   "outputs": [
    {
     "name": "stdout",
     "output_type": "stream",
     "text": [
      "(5, 7)\n",
      "[0, 0, 0, 1, 1, 1]\n"
     ]
    }
   ],
   "source": [
    "if(point1[1] >= point2[1]):\n",
    "    lowest = point2\n",
    "else:\n",
    "    lowest = point1\n",
    "print(lowest)\n",
    "k = lowest[1]\n",
    "\n",
    "p = int(log2(canvas.shape[0]))\n",
    "k_bytes = np.zeros(p, dtype=int)\n",
    "for j in range(p):\n",
    "    k_bytes[p - j - 1] = k % 2\n",
    "    k = k // 2\n",
    "print(list(k_bytes))\n"
   ]
  },
  {
   "cell_type": "code",
   "execution_count": 39,
   "metadata": {},
   "outputs": [
    {
     "name": "stdout",
     "output_type": "stream",
     "text": [
      "000111\n"
     ]
    }
   ],
   "source": [
    "k_bytes = ''.join(list(map(str, k_bytes)))\n",
    "print(k_bytes)"
   ]
  },
  {
   "cell_type": "code",
   "execution_count": 40,
   "metadata": {},
   "outputs": [
    {
     "name": "stdout",
     "output_type": "stream",
     "text": [
      "0 0\n",
      "0 0\n",
      "0 0\n",
      "1 1\n",
      "2 1\n",
      "4 1\n",
      "4\n"
     ]
    }
   ],
   "source": [
    "n = 0\n",
    "prev_sum = 0\n",
    "for i in range(len(k_bytes)):\n",
    "    a = int(k_bytes[:(i + 1)], 2)\n",
    "    a -= prev_sum\n",
    "    prev_sum += a\n",
    "    n += a * t_bytes[i]\n",
    "    print(a, n)\n",
    "t = lowest[0] - n\n",
    "print(t)"
   ]
  },
  {
   "cell_type": "code",
   "execution_count": 41,
   "metadata": {},
   "outputs": [
    {
     "name": "stdout",
     "output_type": "stream",
     "text": [
      "14 4\n",
      "7.5\n"
     ]
    },
    {
     "data": {
      "image/png": "[encoded data removed]",
      "text/plain": [
       "<Figure size 432x288 with 1 Axes>"
      ]
     },
     "metadata": {
      "needs_background": "light"
     },
     "output_type": "display_data"
    }
   ],
   "source": [
    "answer = fht.draw_vert_r(canvas, t, s, (193, 0, 32))\n",
    "plt.imshow(answer)\n",
    "print(s, t)\n",
    "print((point2[1] * s / length + t))"
   ]
  },
  {
   "cell_type": "code",
   "execution_count": 42,
   "metadata": {},
   "outputs": [
    {
     "name": "stdout",
     "output_type": "stream",
     "text": [
      "[0 1 1 1 0 0]\n",
      "0 0\n",
      "0 0\n",
      "0 0\n",
      "1 1\n",
      "2 1\n",
      "4 1\n",
      "s t: 14 4\n"
     ]
    },
    {
     "data": {
      "text/plain": [
       "<matplotlib.image.AxesImage at 0x7f6325afd128>"
      ]
     },
     "execution_count": 42,
     "metadata": {},
     "output_type": "execute_result"
    },
    {
     "data": {
      "image/png": "[encoded data removed]",
      "text/plain": [
       "<Figure size 432x288 with 1 Axes>"
      ]
     },
     "metadata": {
      "needs_background": "light"
     },
     "output_type": "display_data"
    }
   ],
   "source": [
    "s = ceil(abs(point2[0] - point1[0]) / abs(point2[1] - point1[1]) * (length - 1))\n",
    "i = s\n",
    "p = int(log2(canvas.shape[0]))\n",
    "t_bytes = np.zeros(p, dtype=int)\n",
    "for j in range(p):\n",
    "    t_bytes[j] = i % 2\n",
    "    i = i // 2\n",
    "print(t_bytes)\n",
    "n = 0\n",
    "prev_sum = 0\n",
    "for i in range(len(k_bytes)):\n",
    "    a = int(k_bytes[:(i + 1)], 2)\n",
    "    a -= prev_sum\n",
    "    prev_sum += a\n",
    "    n += a * t_bytes[i]\n",
    "    print(a, n)\n",
    "t = lowest[0] - n\n",
    "print(\"s t:\",s, t)\n",
    "answer2 = fht.draw_vert_r(canvas, t, s, (193, 0, 32))\n",
    "plt.imshow(answer2)"
   ]
  },
  {
   "cell_type": "code",
   "execution_count": 43,
   "metadata": {},
   "outputs": [
    {
     "name": "stdout",
     "output_type": "stream",
     "text": [
      "7.5\n"
     ]
    },
    {
     "data": {
      "text/plain": [
       "((7, 16), 14, 4)"
      ]
     },
     "execution_count": 43,
     "metadata": {},
     "output_type": "execute_result"
    }
   ],
   "source": [
    "print((point2[1] * s / length + t))\n",
    "point2, s, t"
   ]
  },
  {
   "cell_type": "code",
   "execution_count": 44,
   "metadata": {},
   "outputs": [
    {
     "name": "stdout",
     "output_type": "stream",
     "text": [
      "[0 1 1 1 0 0]\n",
      "[0, 1, 0, 0, 0, 0]\n",
      "010000\n",
      "0 0\n",
      "1 1\n",
      "1 2\n",
      "2 4\n",
      "4 4\n",
      "8 4\n",
      "3\n"
     ]
    }
   ],
   "source": [
    "i = s\n",
    "p = int(log2(canvas.shape[0]))\n",
    "t_bytes = np.zeros(p, dtype=int)\n",
    "for j in range(p):\n",
    "    t_bytes[j] = i % 2\n",
    "    i = i // 2\n",
    "print(t_bytes)\n",
    "k = point2[1]\n",
    "p = int(log2(canvas.shape[0]))\n",
    "k_bytes = np.zeros(p, dtype=int)\n",
    "for j in range(p):\n",
    "    k_bytes[p - j - 1] = k % 2\n",
    "    k = k // 2\n",
    "print(list(k_bytes))\n",
    "k_bytes = ''.join(list(map(str, k_bytes)))\n",
    "print(k_bytes)\n",
    "n = 0\n",
    "prev_sum = 0\n",
    "for i in range(len(k_bytes)):\n",
    "    a = int(k_bytes[:(i + 1)], 2)\n",
    "    a -= prev_sum\n",
    "    prev_sum += a\n",
    "    n += a * t_bytes[i]\n",
    "    print(a, n)\n",
    "t = point2[0] - n\n",
    "print(t)"
   ]
  },
  {
   "cell_type": "code",
   "execution_count": null,
   "metadata": {},
   "outputs": [],
   "source": []
  }
 ],
 "metadata": {
  "kernelspec": {
   "display_name": "Python 3",
   "language": "python",
   "name": "python3"
  },
  "language_info": {
   "codemirror_mode": {
    "name": "ipython",
    "version": 3
   },
   "file_extension": ".py",
   "mimetype": "text/x-python",
   "name": "python",
   "nbconvert_exporter": "python",
   "pygments_lexer": "ipython3",
   "version": "3.7.1"
  }
 },
 "nbformat": 4,
 "nbformat_minor": 2
}

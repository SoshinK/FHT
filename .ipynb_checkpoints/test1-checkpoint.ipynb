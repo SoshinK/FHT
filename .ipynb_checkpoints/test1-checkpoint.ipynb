{
 "cells": [
  {
   "cell_type": "code",
   "execution_count": 198,
   "metadata": {},
   "outputs": [],
   "source": [
    "import numpy as np\n",
    "import cv2 as cv\n",
    "import matplotlib.pyplot as plt\n",
    "from tqdm import tqdm_notebook as tq\n",
    "%matplotlib inline\n",
    "\n",
    "def normalize(img):\n",
    "    for c in range(img.shape[2]):\n",
    "        max = 0\n",
    "        for i in range(img.shape[0]):\n",
    "            for j in range(img.shape[1]):\n",
    "                if max < img[i][j][c]:\n",
    "                    max = img[i][j][c]\n",
    "        for i in range(img.shape[0]):\n",
    "            for j in range(img.shape[1]):\n",
    "                img[i][j][c] = np.uint8(round(img[i][j][c] / max * 255))\n",
    "    return img\n",
    "\n",
    "def detector_max(himg):\n",
    "    size = himg.shape[0]\n",
    "    channels = himg.shape[2]\n",
    "    max = 0\n",
    "    a = 0\n",
    "    maxx = 0\n",
    "    maxy = 0\n",
    "    for i in range(size):\n",
    "        for j in range(size):\n",
    "            a = 0\n",
    "            for c in range(channels):\n",
    "                a += himg[i][j][c]\n",
    "            if (a > max):\n",
    "                max = a\n",
    "                maxx = i\n",
    "                maxy= j\n",
    "    return maxx, maxy\n",
    "\n",
    "def detector_min(himg):\n",
    "    size = himg.shape[0]\n",
    "    channels = himg.shape[2]\n",
    "    min = 255 * 3\n",
    "    a = 0\n",
    "    minx = 0\n",
    "    miny = 0\n",
    "    for i in range(size):\n",
    "        for j in range(size):\n",
    "            a = 0\n",
    "            for c in range(channels):\n",
    "                a += himg[i][j][c]\n",
    "            if (a < min):\n",
    "                min = a\n",
    "                minx = i\n",
    "                miny= j\n",
    "                n = 0\n",
    "            #print(\"!!!\", i, j, himg[i][j])\n",
    "    return minx, miny\n",
    "\n",
    "def FHT_vert_r(img):\n",
    "    height = img.shape[0]\n",
    "    length = img.shape[1]\n",
    "    channels = img.shape[2]\n",
    "    \n",
    "    hough_Img = np.array([ [ [0] * channels for i in range(length)] for j in range(height)])\n",
    "    if(length == 1):\n",
    "        return img\n",
    "    left = []\n",
    "    right = []\n",
    "    for i in range(height):\n",
    "        left.append(img[i][:(length // 2)])\n",
    "        right.append(img[i][(length // 2):])\n",
    "    left = FHT_vert_r(np.array(left))\n",
    "    right = FHT_vert_r(np.array(right))\n",
    "    for ch in range(channels):\n",
    "        for i in range(0, length, 2):\n",
    "            shift = i // 2\n",
    "            for j in range(height):\n",
    "                index = (j + shift) % height\n",
    "                hough_Img[j][i][ch] = int(left[j][i // 2][ch]) + int(right[index][i // 2][ch])\n",
    "                index = (j + shift + 1) % height\n",
    "                hough_Img[j][i + 1][ch] = int(left[j][i // 2][ch]) + int(right[index][i // 2][ch])\n",
    "    return hough_Img\n",
    "\n",
    "def FHT_vert_l(img):\n",
    "    height = img.shape[0]\n",
    "    length = img.shape[1]\n",
    "    channels = img.shape[2]\n",
    "    \n",
    "    hough_Img = np.array([ [ [0] * channels for i in range(length)] for j in range(height)])\n",
    "    if(length == 1):\n",
    "        return img\n",
    "    left = []\n",
    "    right = []\n",
    "    for i in range(height):\n",
    "        left.append(img[i][:(length // 2)])\n",
    "        right.append(img[i][(length // 2):])\n",
    "    left = FHT_vert_l(np.array(left))\n",
    "    right = FHT_vert_l(np.array(right))\n",
    "    for ch in range(channels):\n",
    "        for i in range(0, length, 2):\n",
    "            shift = i // 2\n",
    "            for j in range(height):\n",
    "                index = (j - shift) % height\n",
    "                hough_Img[j][i][ch] = int(left[j][i // 2][ch]) + int(right[index][i // 2][ch])\n",
    "                index = (j - shift - 1) % height\n",
    "                hough_Img[j][i + 1][ch] = int(left[j][i // 2][ch]) + int(right[index][i // 2][ch])\n",
    "    return hough_Img\n",
    "\n",
    "def FHT_horiz_dwn(img):\n",
    "    height = img.shape[0]\n",
    "    length = img.shape[1]\n",
    "    channels = img.shape[2]\n",
    "    \n",
    "    hough_Img = np.array([ [ [0] * channels for i in range(length)] for j in range(height)])\n",
    "    if(height == 1):\n",
    "        return img\n",
    "    up = img[:(height // 2)]\n",
    "    down = img[(height // 2):]\n",
    "    up = FHT_horiz_dwn(np.array(up))\n",
    "    down = FHT_horiz_dwn(np.array(down))\n",
    "    for ch in range(channels):\n",
    "        for i in range(0, height, 2):\n",
    "            shift = i // 2\n",
    "            for j in range(length):\n",
    "                index = (j - shift) % length\n",
    "                hough_Img[i][j][ch] = int(up[i // 2][j][ch]) + int(down[i // 2][index][ch])\n",
    "                index = (j - shift - 1) % length\n",
    "                hough_Img[i + 1][j][ch] = int(up[i // 2][j][ch]) + int(down[i // 2][index][ch])\n",
    "    return hough_Img\n",
    "\n",
    "def FHT_horiz_up(img):\n",
    "    height = img.shape[0]\n",
    "    length = img.shape[1]\n",
    "    channels = img.shape[2]\n",
    "    \n",
    "    hough_Img = np.array([ [ [0] * channels for i in range(length)] for j in range(height)])\n",
    "    if(height == 1):\n",
    "        return img\n",
    "    up = img[:(height // 2)]\n",
    "    down = img[(height // 2):]\n",
    "    up = FHT_horiz_up(np.array(up))\n",
    "    down = FHT_horiz_up(np.array(down))\n",
    "    for ch in range(channels):\n",
    "        for i in range(0, height, 2):\n",
    "            shift = i // 2\n",
    "            for j in range(length):\n",
    "                index = (j + shift) % length\n",
    "                hough_Img[i][j][ch] = int(up[i // 2][j][ch]) + int(down[i // 2][index][ch])\n",
    "                index = (j + shift + 1) % length\n",
    "                hough_Img[i + 1][j][ch] = int(up[i // 2][j][ch]) + int(down[i // 2][index][ch])\n",
    "    return hough_Img\n",
    "\n",
    "def rd(n):\n",
    "    if((n - int(n)) >= 0.5):\n",
    "        return (int(n)+1)\n",
    "    else:\n",
    "        return int(n)\n",
    "\n",
    "from math import log2\n",
    "    \n",
    "def draw_horiz_up(img, s, t, color):\n",
    "    p = int(log2(img.shape[0]))\n",
    "    t_bytes = np.zeros(p, dtype=int)\n",
    "    for i in range(p):\n",
    "        t_bytes[i] = t % 2\n",
    "        t = t // 2\n",
    "    for x in range(img.shape[0]):\n",
    "        y = 0\n",
    "        for k in range(len(t_bytes)):\n",
    "            y += t_bytes[k] * rd(2 ** k * x/ (img.shape[0] - 1))\n",
    "        y += s\n",
    "        y = y % img.shape[0]\n",
    "        img[x][y] = np.uint8(color)\n",
    "    return img\n",
    "\n",
    "def draw_horiz_dwn(img, s, t, color):\n",
    "    p = int(log2(img.shape[0]))\n",
    "    t_bytes = np.zeros(p, dtype=int)\n",
    "    for i in range(p):\n",
    "        t_bytes[i] = t % 2\n",
    "        t = t // 2\n",
    "    for x in range(img.shape[0]):\n",
    "        y = 0\n",
    "        for k in range(len(t_bytes)):\n",
    "            y -= t_bytes[k] * rd(2 ** k * x/ (img.shape[0] - 1))\n",
    "        y += s\n",
    "        y = y % img.shape[0]\n",
    "        img[x][y] = np.uint8(color)\n",
    "    return img\n",
    "\n",
    "def draw_vert_r(img, s, t, color):\n",
    "    p = int(log2(img.shape[0]))\n",
    "    t_bytes = np.zeros(p, dtype=int)\n",
    "    for i in range(p):\n",
    "        t_bytes[i] = t % 2\n",
    "        t = t // 2\n",
    "    for y in range(img.shape[0]):\n",
    "        x = 0\n",
    "        for k in range(len(t_bytes)):\n",
    "            x += t_bytes[k] * rd(2 ** k * y/ (img.shape[0] - 1))\n",
    "        x += s\n",
    "        x = x % img.shape[0]\n",
    "        img[x][y] = np.uint8(color)\n",
    "    return img\n",
    "\n",
    "def draw_vert_l(img, s, t, color):\n",
    "    p = int(log2(img.shape[0]))\n",
    "    t_bytes = np.zeros(p, dtype=int)\n",
    "    for i in range(p):\n",
    "        t_bytes[i] = t % 2\n",
    "        t = t // 2\n",
    "    for y in range(img.shape[0]):\n",
    "        x = 0\n",
    "        for k in range(len(t_bytes)):\n",
    "            x -= t_bytes[k] * rd(2 ** k * y/ (img.shape[0] - 1))\n",
    "        x += s\n",
    "        x = x % img.shape[0]\n",
    "        img[x][y] = np.uint8(color)\n",
    "    return img"
   ]
  },
  {
   "cell_type": "code",
   "execution_count": 199,
   "metadata": {
    "scrolled": false
   },
   "outputs": [
    {
     "data": {
      "text/plain": [
       "<matplotlib.image.AxesImage at 0x7f55076225c0>"
      ]
     },
     "execution_count": 199,
     "metadata": {},
     "output_type": "execute_result"
    },
    {
     "data": {
      "image/png": "[encoded data removed]",
      "text/plain": [
       "<Figure size 432x288 with 1 Axes>"
      ]
     },
     "metadata": {
      "needs_background": "light"
     },
     "output_type": "display_data"
    }
   ],
   "source": [
    "img = cv.imread(\"./img/qqq.png\")\n",
    "plt.imshow(img)"
   ]
  },
  {
   "cell_type": "code",
   "execution_count": 200,
   "metadata": {
    "scrolled": true
   },
   "outputs": [
    {
     "name": "stdout",
     "output_type": "stream",
     "text": [
      "(41, 36)\n",
      "[255 255 255]\n"
     ]
    },
    {
     "data": {
      "image/png": "[encoded data removed]",
      "text/plain": [
       "<Figure size 432x288 with 1 Axes>"
      ]
     },
     "metadata": {
      "needs_background": "light"
     },
     "output_type": "display_data"
    }
   ],
   "source": [
    "import copy\n",
    "himg1 = normalize(FHT_vert_r(img))\n",
    "line = detector_min(himg1)\n",
    "print(line)\n",
    "canvas = copy.deepcopy(img)\n",
    "#canvas = np.zeros((128,128,3))\n",
    "canvas = draw_vert_r(canvas, line[0], line[1], (193, 0, 32))\n",
    "plt.imshow(canvas)\n",
    "print(himg1[0][0])"
   ]
  },
  {
   "cell_type": "code",
   "execution_count": 201,
   "metadata": {},
   "outputs": [
    {
     "data": {
      "text/plain": [
       "<matplotlib.image.AxesImage at 0x7f55075170f0>"
      ]
     },
     "execution_count": 201,
     "metadata": {},
     "output_type": "execute_result"
    },
    {
     "data": {
      "image/png": "[encoded data removed]",
      "text/plain": [
       "<Figure size 432x288 with 1 Axes>"
      ]
     },
     "metadata": {
      "needs_background": "light"
     },
     "output_type": "display_data"
    }
   ],
   "source": [
    "plt.imshow(himg1)"
   ]
  },
  {
   "cell_type": "code",
   "execution_count": 202,
   "metadata": {},
   "outputs": [
    {
     "name": "stdout",
     "output_type": "stream",
     "text": [
      "(47, 0)\n"
     ]
    },
    {
     "data": {
      "text/plain": [
       "<matplotlib.image.AxesImage at 0x7f55074552e8>"
      ]
     },
     "execution_count": 202,
     "metadata": {},
     "output_type": "execute_result"
    },
    {
     "data": {
      "image/png": "[encoded data removed]",
      "text/plain": [
       "<Figure size 432x288 with 1 Axes>"
      ]
     },
     "metadata": {
      "needs_background": "light"
     },
     "output_type": "display_data"
    }
   ],
   "source": [
    "himg2 = normalize(FHT_vert_l(img))\n",
    "line = detector_min(himg2)\n",
    "print(line)\n",
    "canvas = draw_vert_l(canvas, line[0], line[1], (193, 0, 32))\n",
    "plt.imshow(canvas)"
   ]
  },
  {
   "cell_type": "code",
   "execution_count": 203,
   "metadata": {
    "scrolled": false
   },
   "outputs": [
    {
     "data": {
      "text/plain": [
       "<matplotlib.image.AxesImage at 0x7f55072975c0>"
      ]
     },
     "execution_count": 203,
     "metadata": {},
     "output_type": "execute_result"
    },
    {
     "data": {
      "image/png": "[encoded data removed]",
      "text/plain": [
       "<Figure size 432x288 with 1 Axes>"
      ]
     },
     "metadata": {
      "needs_background": "light"
     },
     "output_type": "display_data"
    }
   ],
   "source": [
    "plt.imshow(himg2)"
   ]
  },
  {
   "cell_type": "code",
   "execution_count": 204,
   "metadata": {},
   "outputs": [
    {
     "name": "stdout",
     "output_type": "stream",
     "text": [
      "(0, 28)\n"
     ]
    },
    {
     "data": {
      "text/plain": [
       "<matplotlib.image.AxesImage at 0x7f55075a8b38>"
      ]
     },
     "execution_count": 204,
     "metadata": {},
     "output_type": "execute_result"
    },
    {
     "data": {
      "image/png": "[encoded data removed]",
      "text/plain": [
       "<Figure size 432x288 with 1 Axes>"
      ]
     },
     "metadata": {
      "needs_background": "light"
     },
     "output_type": "display_data"
    }
   ],
   "source": [
    "himg3 = normalize(FHT_horiz_up(img))\n",
    "line = detector_min(himg3)\n",
    "print(line)\n",
    "canvas = draw_horiz_up(canvas, line[1], line[0], (193, 0, 32))\n",
    "plt.imshow(canvas)"
   ]
  },
  {
   "cell_type": "code",
   "execution_count": 205,
   "metadata": {},
   "outputs": [
    {
     "data": {
      "text/plain": [
       "<matplotlib.image.AxesImage at 0x7f550743d128>"
      ]
     },
     "execution_count": 205,
     "metadata": {},
     "output_type": "execute_result"
    },
    {
     "data": {
      "image/png": "[encoded data removed]",
      "text/plain": [
       "<Figure size 432x288 with 1 Axes>"
      ]
     },
     "metadata": {
      "needs_background": "light"
     },
     "output_type": "display_data"
    }
   ],
   "source": [
    "plt.imshow(himg3)"
   ]
  },
  {
   "cell_type": "code",
   "execution_count": 206,
   "metadata": {},
   "outputs": [
    {
     "name": "stdout",
     "output_type": "stream",
     "text": [
      "(125, 121)\n"
     ]
    },
    {
     "data": {
      "text/plain": [
       "<matplotlib.image.AxesImage at 0x7f550731b2e8>"
      ]
     },
     "execution_count": 206,
     "metadata": {},
     "output_type": "execute_result"
    },
    {
     "data": {
      "image/png": "[encoded data removed]",
      "text/plain": [
       "<Figure size 432x288 with 1 Axes>"
      ]
     },
     "metadata": {
      "needs_background": "light"
     },
     "output_type": "display_data"
    }
   ],
   "source": [
    "himg4= normalize(FHT_horiz_dwn(img))\n",
    "line = detector_min(himg4)\n",
    "print(line)\n",
    "canvas = draw_horiz_dwn(canvas, line[1], line[0], (193, 0, 32))\n",
    "plt.imshow(canvas)"
   ]
  },
  {
   "cell_type": "code",
   "execution_count": 207,
   "metadata": {},
   "outputs": [
    {
     "data": {
      "text/plain": [
       "<matplotlib.image.AxesImage at 0x7f55072f65f8>"
      ]
     },
     "execution_count": 207,
     "metadata": {},
     "output_type": "execute_result"
    },
    {
     "data": {
      "image/png": "[encoded data removed]",
      "text/plain": [
       "<Figure size 432x288 with 1 Axes>"
      ]
     },
     "metadata": {
      "needs_background": "light"
     },
     "output_type": "display_data"
    }
   ],
   "source": [
    "plt.imshow(himg4)"
   ]
  },
  {
   "cell_type": "code",
   "execution_count": null,
   "metadata": {},
   "outputs": [],
   "source": []
  }
 ],
 "metadata": {
  "kernelspec": {
   "display_name": "Python 3",
   "language": "python",
   "name": "python3"
  },
  "language_info": {
   "codemirror_mode": {
    "name": "ipython",
    "version": 3
   },
   "file_extension": ".py",
   "mimetype": "text/x-python",
   "name": "python",
   "nbconvert_exporter": "python",
   "pygments_lexer": "ipython3",
   "version": "3.7.0"
  }
 },
 "nbformat": 4,
 "nbformat_minor": 2
}

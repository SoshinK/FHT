{
 "cells": [
  {
   "cell_type": "code",
   "execution_count": 132,
   "metadata": {},
   "outputs": [],
   "source": [
    "import numpy as np\n",
    "import cv2 as cv\n",
    "import matplotlib.pyplot as plt\n",
    "import fht\n",
    "from math import log2\n",
    "from math import floor\n",
    "from math import ceil\n",
    "%matplotlib inline"
   ]
  },
  {
   "cell_type": "code",
   "execution_count": 133,
   "metadata": {},
   "outputs": [],
   "source": [
    "# returns None if digits < log2(val)\n",
    "def byterepr(val, digits):\n",
    "    k = val\n",
    "    brepr = np.zeros(digits, dtype=int)\n",
    "    for i in range(digits):\n",
    "        brepr[digits - i - 1] = k % 2\n",
    "        k = k // 2\n",
    "    if k == 0:\n",
    "        return ''.join(list(map(str, brepr)))"
   ]
  },
  {
   "cell_type": "code",
   "execution_count": 134,
   "metadata": {},
   "outputs": [],
   "source": [
    "channels = 3\n",
    "length = height = size = 64\n",
    "point1 = (5, 7)\n",
    "point2 = (7, 16)\n",
    "p = int(log2(size))"
   ]
  },
  {
   "cell_type": "code",
   "execution_count": 135,
   "metadata": {
    "scrolled": true
   },
   "outputs": [
    {
     "data": {
      "text/plain": [
       "<matplotlib.image.AxesImage at 0x7f32cb5a9320>"
      ]
     },
     "execution_count": 135,
     "metadata": {},
     "output_type": "execute_result"
    },
    {
     "data": {
      "image/png": "[encoded data removed]",
      "text/plain": [
       "<Figure size 432x288 with 1 Axes>"
      ]
     },
     "metadata": {
      "needs_background": "light"
     },
     "output_type": "display_data"
    }
   ],
   "source": [
    "canvas = np.array([ [ [0] * channels for i in range(length)] for j in range(height)])\n",
    "plt.imshow(canvas)\n",
    "canvas[point1[0]][point1[1]] = (255, 255, 255)\n",
    "canvas[point2[0]][point2[1]] = (255, 255, 255)\n",
    "plt.imshow(canvas)"
   ]
  },
  {
   "cell_type": "code",
   "execution_count": 136,
   "metadata": {},
   "outputs": [
    {
     "name": "stdout",
     "output_type": "stream",
     "text": [
      "(5, 7) (7, 16)\n"
     ]
    }
   ],
   "source": [
    "if(point2[1] >= point1[1]):\n",
    "    low = point1\n",
    "    high = point2\n",
    "else:\n",
    "    low = point2\n",
    "    high = point1\n",
    "print(low, high)"
   ]
  },
  {
   "cell_type": "code",
   "execution_count": 137,
   "metadata": {},
   "outputs": [
    {
     "data": {
      "text/plain": [
       "2"
      ]
     },
     "execution_count": 137,
     "metadata": {},
     "output_type": "execute_result"
    }
   ],
   "source": [
    "delta_x = high[0] - low[0]\n",
    "delta_x"
   ]
  },
  {
   "cell_type": "code",
   "execution_count": 138,
   "metadata": {},
   "outputs": [
    {
     "name": "stdout",
     "output_type": "stream",
     "text": [
      "010000 000111\n"
     ]
    }
   ],
   "source": [
    "highb = byterepr(high[1], p)\n",
    "lowb = byterepr(low[1], p)\n",
    "print(highb, lowb)"
   ]
  },
  {
   "cell_type": "code",
   "execution_count": 139,
   "metadata": {},
   "outputs": [
    {
     "name": "stdout",
     "output_type": "stream",
     "text": [
      "[0, 1, 1, 2, 4, 8]\n",
      "[0, 0, 0, 1, 2, 4]\n",
      "[0 1 1 1 2 4]\n"
     ]
    }
   ],
   "source": [
    "prev_sum = 0\n",
    "diadpatternsp_h = []\n",
    "diadpatternsp_l = []\n",
    "for i in range(p):\n",
    "    diadpatternsp_h.append(int(highb[:(i + 1)], 2) - prev_sum)\n",
    "    prev_sum += diadpatternsp_h[i]\n",
    "prev_sum = 0\n",
    "for i in range(p):\n",
    "    diadpatternsp_l.append(int(lowb[:(i + 1)], 2) - prev_sum)\n",
    "    prev_sum += diadpatternsp_l[i]\n",
    "print(diadpatternsp_h)\n",
    "print(diadpatternsp_l)\n",
    "diad_diff = np.array(diadpatternsp_h) - np.array(diadpatternsp_l)\n",
    "print(diad_diff)"
   ]
  },
  {
   "cell_type": "code",
   "execution_count": 140,
   "metadata": {},
   "outputs": [
    {
     "name": "stdout",
     "output_type": "stream",
     "text": [
      "[1 0 0 0 1 0]\n",
      "17\n"
     ]
    }
   ],
   "source": [
    "bytes_t = np.zeros(p, dtype=int)\n",
    "for i in range(p - 1, -1, -1):\n",
    "    if (diad_diff[i] <= delta_x):\n",
    "        bytes_t[i] = 1\n",
    "        delta_x -= diad_diff[i]\n",
    "print(bytes_t)\n",
    "\n",
    "t = 0\n",
    "bpow = 1\n",
    "for i in range(p):\n",
    "    t += bytes_t[i] * bpow\n",
    "    bpow *= 2\n",
    "print(t)"
   ]
  },
  {
   "cell_type": "code",
   "execution_count": 141,
   "metadata": {},
   "outputs": [
    {
     "name": "stdout",
     "output_type": "stream",
     "text": [
      "3\n"
     ]
    }
   ],
   "source": [
    "shift = 0\n",
    "prev_sum = 0\n",
    "for i in range(p):\n",
    "    a = int(lowb[:(i + 1)], 2)\n",
    "    a -= prev_sum\n",
    "    prev_sum += a\n",
    "    shift += a * bytes_t[i]\n",
    "    #print(a, shift)\n",
    "s = low[0] - shift\n",
    "print(s)"
   ]
  },
  {
   "cell_type": "code",
   "execution_count": 142,
   "metadata": {},
   "outputs": [
    {
     "data": {
      "text/plain": [
       "<matplotlib.image.AxesImage at 0x7f32cb608550>"
      ]
     },
     "execution_count": 142,
     "metadata": {},
     "output_type": "execute_result"
    },
    {
     "data": {
      "image/png": "[encoded data removed]",
      "text/plain": [
       "<Figure size 432x288 with 1 Axes>"
      ]
     },
     "metadata": {
      "needs_background": "light"
     },
     "output_type": "display_data"
    }
   ],
   "source": [
    "answer = fht.draw_vert_r(canvas, s, t, (193, 0, 32))\n",
    "plt.imshow(answer)"
   ]
  },
  {
   "cell_type": "code",
   "execution_count": null,
   "metadata": {},
   "outputs": [],
   "source": []
  }
 ],
 "metadata": {
  "kernelspec": {
   "display_name": "Python 3",
   "language": "python",
   "name": "python3"
  },
  "language_info": {
   "codemirror_mode": {
    "name": "ipython",
    "version": 3
   },
   "file_extension": ".py",
   "mimetype": "text/x-python",
   "name": "python",
   "nbconvert_exporter": "python",
   "pygments_lexer": "ipython3",
   "version": "3.7.1"
  }
 },
 "nbformat": 4,
 "nbformat_minor": 2
}

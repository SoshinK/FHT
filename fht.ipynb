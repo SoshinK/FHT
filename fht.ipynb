{
 "cells": [
  {
   "cell_type": "code",
   "execution_count": 223,
   "metadata": {},
   "outputs": [],
   "source": [
    "import numpy as np\n",
    "import cv2 as cv\n",
    "import matplotlib.pyplot as plt\n",
    "import copy\n",
    "%matplotlib inline"
   ]
  },
  {
   "cell_type": "code",
   "execution_count": 224,
   "metadata": {},
   "outputs": [],
   "source": [
    "def normalize(img):\n",
    "    height = img.shape[0]\n",
    "    length = img.shape[1]\n",
    "    channels = img.shape[2]\n",
    "    \n",
    "    res = np.array([ [ [np.uint8(0)] * channels for i in range(length)] for j in range(height)])\n",
    "    for c in range(img.shape[2]):\n",
    "        max = 0\n",
    "        for i in range(img.shape[0]):\n",
    "            for j in range(img.shape[1]):\n",
    "                if max < img[i][j][c]:\n",
    "                    max = img[i][j][c]\n",
    "        for i in range(img.shape[0]):\n",
    "            for j in range(img.shape[1]):\n",
    "                res[i][j][c] = np.uint8(round(img[i][j][c] / max * 255))\n",
    "                \n",
    "    return res\n",
    "\n",
    "def detector_max(himg):\n",
    "    height = himg.shape[0]\n",
    "    length = himg.shape[1]\n",
    "    channels = himg.shape[2]\n",
    "    max = 0\n",
    "    a = 0\n",
    "    maxx = 0\n",
    "    maxy = 0\n",
    "    for i in range(height):\n",
    "        for j in range(length):\n",
    "            a = 0\n",
    "            for c in range(channels):\n",
    "                a += himg[i][j][c]\n",
    "            if (a > max):\n",
    "                max = a\n",
    "                maxx = i\n",
    "                maxy= j\n",
    "        #print(\">>\", i, j, maxx, maxy)\n",
    "    return maxx, maxy\n",
    "\n",
    "def detector_min(himg):\n",
    "    height = himg.shape[0]\n",
    "    length = himg.shape[1]\n",
    "    channels = himg.shape[2]\n",
    "    min = 255 * 3\n",
    "    a = 0\n",
    "    minx = 0\n",
    "    miny = 0\n",
    "    for i in range(height):\n",
    "        for j in range(length):\n",
    "            a = 0\n",
    "            for c in range(channels):\n",
    "                a += himg[i][j][c]\n",
    "            if (a < min):\n",
    "                min = a\n",
    "                minx = i\n",
    "                miny= j\n",
    "        #print(i, j)\n",
    "    return minx, miny"
   ]
  },
  {
   "cell_type": "code",
   "execution_count": 225,
   "metadata": {},
   "outputs": [],
   "source": [
    "def FHT_vert_r(img):\n",
    "    height = img.shape[0]\n",
    "    length = img.shape[1]\n",
    "    channels = img.shape[2]\n",
    "    \n",
    "    hough_Img = np.array([ [ [0] * channels for i in range(length)] for j in range(height)])\n",
    "    if(length == 1):\n",
    "        return img\n",
    "    left = []\n",
    "    right = []\n",
    "    for i in range(height):\n",
    "        left.append(img[i][:(length // 2)])\n",
    "        right.append(img[i][(length // 2):])\n",
    "    left = FHT_vert_r(np.array(left))\n",
    "    right = FHT_vert_r(np.array(right))\n",
    "    for ch in range(channels):\n",
    "        for i in range(0, length, 2):\n",
    "            shift = i // 2\n",
    "            for j in range(height):\n",
    "                index = (j + shift) % height\n",
    "                hough_Img[j][i][ch] = int(left[j][i // 2][ch]) + int(right[index][i // 2][ch])\n",
    "                index = (j + shift + 1) % height\n",
    "                hough_Img[j][i + 1][ch] = int(left[j][i // 2][ch]) + int(right[index][i // 2][ch])\n",
    "    return hough_Img\n",
    "\n"
   ]
  },
  {
   "cell_type": "code",
   "execution_count": 226,
   "metadata": {},
   "outputs": [],
   "source": [
    "\n",
    "def reflect_x(img):\n",
    "    img = copy.deepcopy(img)\n",
    "    for i in range(img.shape[0] // 2):\n",
    "        tmp = copy.deepcopy(img[i])\n",
    "        img[i] = img[img.shape[0] - i - 1]\n",
    "        img[img.shape[0] - i - 1] = tmp\n",
    "    return img\n",
    "\n",
    "def reflect_y(img):\n",
    "    img = copy.deepcopy(img)\n",
    "    for i in range(img.shape[0]):\n",
    "        img[i] = reflect_x(img[i])\n",
    "    return img\n"
   ]
  },
  {
   "cell_type": "code",
   "execution_count": 341,
   "metadata": {},
   "outputs": [],
   "source": [
    "def FHT(img, direction='all'):\n",
    "    height = img.shape[0]\n",
    "    length = img.shape[1]\n",
    "    channels = img.shape[2]\n",
    "    \n",
    "    if(direction == 'all' or direction == 'vr'):\n",
    "        hough_vr = FHT_vert_r(img)\n",
    "        ret = hough_vr\n",
    "        \n",
    "    if(direction == 'all' or direction == 'vl'):\n",
    "        hough_vl = reflect_y(reflect_x(FHT_vert_r(reflect_x(img))))\n",
    "        #hough_vl = normalize((FHT_vert_r(reflect_x(img))))\n",
    "        ret = hough_vl\n",
    "        \n",
    "    if(direction == 'all' or direction == 'hd'):\n",
    "        #hough_hd = reflect_y(np.transpose((FHT_vert_r(np.transpose(reflect_y(img) ,(1, 0, 2)))), (1, 0, 2)))\n",
    "        #hough_hd = np.transpose(hough_hd, (1, 0, 2))\n",
    "        hough_hd = ((FHT_vert_r(np.transpose(reflect_y(img) ,(1, 0, 2)))) )\n",
    "        hough_hd = reflect_y(hough_hd)\n",
    "        ret = hough_hd\n",
    "        \n",
    "    if(direction == 'all' or direction == 'hu'):\n",
    "        #hough_hu = np.transpose(FHT_vert_r(np.transpose(img, (1, 0, 2))), (1, 0, 2))\n",
    "        hough_hu = FHT_vert_r(np.transpose(img, (1, 0, 2)))\n",
    "        hough_hu = reflect_x(hough_hu)\n",
    "        ret = hough_hu\n",
    "        \n",
    "    if(direction == 'all'):\n",
    "        hough_all = np.array([ [ [0] * channels for i in range(4 * length)] for j in range(height)])\n",
    "        #ough_all[:height] = hough_vr\n",
    "        #ough_all[height:(2 * height)] = hough_vl\n",
    "        #ough_all[(2 * height):(3 * height)] = hough_hd\n",
    "        #ough_all[(3 * height):(4 * height)] = hough_hu\n",
    "        \n",
    "        for i in range(height):\n",
    "            hough_all[i][:length] = (hough_vl[i])\n",
    "            hough_all[i][length:(2 * length)] = hough_vr[i]\n",
    "            hough_all[i][(2 * length):(3 * length)] = hough_hd[i]\n",
    "            hough_all[i][(3 * length):(4 * length)] = hough_hu[i]\n",
    "        ret = hough_all\n",
    "        \n",
    "    return normalize(ret)"
   ]
  },
  {
   "cell_type": "code",
   "execution_count": 378,
   "metadata": {
    "scrolled": true
   },
   "outputs": [
    {
     "data": {
      "text/plain": [
       "<matplotlib.image.AxesImage at 0x7f42b15e54a8>"
      ]
     },
     "execution_count": 378,
     "metadata": {},
     "output_type": "execute_result"
    },
    {
     "data": {
      "image/png": "[encoded data removed]",
      "text/plain": [
       "<Figure size 432x288 with 1 Axes>"
      ]
     },
     "metadata": {
      "needs_background": "light"
     },
     "output_type": "display_data"
    }
   ],
   "source": [
    "img1 = cv.imread(\"./img/line64x64_horiz_r.png\")\n",
    "img2 = cv.imread(\"./img/line64x64_horiz_l.png\")\n",
    "img3 = cv.imread(\"./img/line64x64_l.png\")\n",
    "img4 = cv.imread(\"./img/line64x64.png\")\n",
    "#img1 = img2 = img3 = img4 = cv.imread(\"./img/qqq.png\")\n",
    "window = 2\n",
    "img = img1\n",
    "#img = cv.imread(\"./img/bundle.png\")\n",
    "#img = cv.imread(\"./img/qqq.png\")\n",
    "#img = normalize(cv.blur(normalize(cv.Laplacian(img,cv.CV_64F)),(window ,window )))\n",
    "#img = normalize(normalize(cv.Laplacian(img,cv.CV_64F)))\n",
    "\n",
    "#print(type(img[47][17][0]))\n",
    "plt.imshow(img)\n"
   ]
  },
  {
   "cell_type": "code",
   "execution_count": 379,
   "metadata": {
    "scrolled": true
   },
   "outputs": [
    {
     "data": {
      "text/plain": [
       "(32, 128, 3)"
      ]
     },
     "execution_count": 379,
     "metadata": {},
     "output_type": "execute_result"
    },
    {
     "data": {
      "image/png": "[encoded data removed]",
      "text/plain": [
       "<Figure size 432x288 with 1 Axes>"
      ]
     },
     "metadata": {
      "needs_background": "light"
     },
     "output_type": "display_data"
    }
   ],
   "source": [
    "himg = FHT(img, direction ='all')\n",
    "plt.imshow(himg)\n",
    "himg.shape\n",
    "#himg[4][277]"
   ]
  },
  {
   "cell_type": "code",
   "execution_count": 356,
   "metadata": {},
   "outputs": [
    {
     "name": "stdout",
     "output_type": "stream",
     "text": [
      "(51, 96)\n",
      "[255 255 255]\n",
      "(102, 94)\n",
      "[239 239 239]\n",
      "(50, 98)\n",
      "[236 236 236]\n",
      "(52, 95)\n",
      "[235 235 235]\n",
      "(103, 92)\n",
      "[232 232 232]\n",
      "(51, 97)\n",
      "[224 224 224]\n",
      "(102, 93)\n",
      "[220 220 220]\n",
      "(103, 91)\n",
      "[220 220 220]\n",
      "(101, 96)\n",
      "[215 215 215]\n",
      "(101, 95)\n",
      "[214 214 214]\n",
      "(51, 95)\n",
      "[205 205 205]\n",
      "(53, 93)\n",
      "[203 203 203]\n",
      "(52, 94)\n",
      "[202 202 202]\n",
      "(50, 99)\n",
      "[201 201 201]\n",
      "(49, 100)\n",
      "[199 199 199]\n",
      "(52, 93)\n",
      "[195 195 195]\n",
      "(50, 97)\n",
      "[192 192 192]\n",
      "(103, 93)\n",
      "[191 191 191]\n",
      "(104, 91)\n",
      "[191 191 191]\n",
      "(104, 89)\n",
      "[189 189 189]\n",
      "(104, 90)\n",
      "[187 187 187]\n",
      "(100, 98)\n",
      "[186 186 186]\n",
      "(105, 89)\n",
      "[185 185 185]\n",
      "(102, 95)\n",
      "[176 176 176]\n",
      "(50, 100)\n",
      "[172 172 172]\n",
      "(100, 96)\n",
      "[171 171 171]\n",
      "(51, 98)\n",
      "[169 169 169]\n",
      "(53, 92)\n",
      "[168 168 168]\n",
      "(48, 102)\n",
      "[166 166 166]\n",
      "(101, 94)\n",
      "[165 165 165]\n"
     ]
    }
   ],
   "source": [
    "\"\"\"print(himg[41][103])\n",
    "point1 = detector_max(himg)\n",
    "himg[point1[0]][point1[1]] = (0, 0, 0)\n",
    "point2 = detector_max(himg)\n",
    "himg[point2[0]][point2[1]] = (0, 0, 0)\n",
    "point3 = detector_max(himg)\n",
    "himg[point3[0]][point3[1]] = (0, 0, 0)\n",
    "point4 = detector_max(himg)\n",
    "#himg[point4[0]][point4[1]] = (0, 0, 0)\n",
    "print(point1, point2, point3, point4)\n",
    "print(himg[point4[0]][point4[1]])\n",
    "\"\"\"\n",
    "points = []\n",
    "for i in range(30):\n",
    "    point = detector_max(himg)\n",
    "    print(point)\n",
    "    print(himg[point[0]][point[1]])\n",
    "    himg[point[0]][point[1]] = (0, 0, 0)\n",
    "    points.append(point)"
   ]
  },
  {
   "cell_type": "code",
   "execution_count": 357,
   "metadata": {},
   "outputs": [],
   "source": [
    "def rd(n):\n",
    "    if((n - int(n)) >= 0.5):\n",
    "        return (int(n)+1)\n",
    "    else:\n",
    "        return int(n)\n",
    "\n",
    "from math import log2\n",
    "    \n",
    "def draw_horiz_up(img, s, t, color):\n",
    "    p = int(log2(img.shape[0]))\n",
    "    t_bytes = np.zeros(p, dtype=int)\n",
    "    for i in range(p):\n",
    "        t_bytes[i] = t % 2\n",
    "        t = t // 2\n",
    "    for x in range(img.shape[0]):\n",
    "        y = 0\n",
    "        for k in range(len(t_bytes)):\n",
    "            y += t_bytes[k] * rd(2 ** k * x/ (img.shape[0] - 1))\n",
    "        y += s\n",
    "        y = y % img.shape[0]\n",
    "        img[x][y] = np.uint8(color)\n",
    "    return img\n",
    "\n",
    "def draw_horiz_dwn(img, s, t, color):\n",
    "    p = int(log2(img.shape[0]))\n",
    "    t_bytes = np.zeros(p, dtype=int)\n",
    "    for i in range(p):\n",
    "        t_bytes[i] = t % 2\n",
    "        t = t // 2\n",
    "    for x in range(img.shape[0]):\n",
    "        y = 0\n",
    "        for k in range(len(t_bytes)):\n",
    "            y -= t_bytes[k] * rd(2 ** k * x/ (img.shape[0] - 1))\n",
    "        y += s\n",
    "        y = y % img.shape[0]\n",
    "        img[x][y] = np.uint8(color)\n",
    "    return img\n",
    "\n",
    "def draw_vert_r(img, s, t, color):\n",
    "    p = int(log2(img.shape[0]))\n",
    "    t_bytes = np.zeros(p, dtype=int)\n",
    "    for i in range(p):\n",
    "        t_bytes[i] = t % 2\n",
    "        t = t // 2\n",
    "    for y in range(img.shape[0]):\n",
    "        x = 0\n",
    "        for k in range(len(t_bytes)):\n",
    "            x += t_bytes[k] * rd(2 ** k * y/ (img.shape[0] - 1))\n",
    "        x += s\n",
    "        x = x % img.shape[0]\n",
    "        img[x][y] = np.uint8(color)\n",
    "    return img\n",
    "\n",
    "def draw_vert_l(img, s, t, color):\n",
    "    p = int(log2(img.shape[0]))\n",
    "    t_bytes = np.zeros(p, dtype=int)\n",
    "    for i in range(p):\n",
    "        t_bytes[i] = t % 2\n",
    "        t = t // 2\n",
    "    for y in range(img.shape[0]):\n",
    "        x = 0\n",
    "        for k in range(len(t_bytes)):\n",
    "            x -= t_bytes[k] * rd(2 ** k * y/ (img.shape[0] - 1))\n",
    "        x += s\n",
    "        x = x % img.shape[0]\n",
    "        img[x][y] = np.uint8(color)\n",
    "    return img\n",
    "\n"
   ]
  },
  {
   "cell_type": "code",
   "execution_count": 358,
   "metadata": {},
   "outputs": [
    {
     "data": {
      "text/plain": [
       "<matplotlib.image.AxesImage at 0x7f42b19d9128>"
      ]
     },
     "execution_count": 358,
     "metadata": {},
     "output_type": "execute_result"
    },
    {
     "data": {
      "image/png": "[encoded data removed]",
      "text/plain": [
       "<Figure size 432x288 with 1 Axes>"
      ]
     },
     "metadata": {
      "needs_background": "light"
     },
     "output_type": "display_data"
    }
   ],
   "source": [
    "\n",
    "            \n",
    "def draw(img, point):\n",
    "    length = img.shape[1]\n",
    "    canvas = copy.deepcopy(img)\n",
    "    if(point[1] in range(length)):\n",
    "        canvas = draw_vert_l(canvas, point[0], point[1], (193, 0, 32))\n",
    "    if(point[1] in range(length, 2 * length)):\n",
    "        canvas = draw_vert_r(canvas, point[0], point[1] - length, (193, 0, 32))\n",
    "    if(point[1] in range(length * 2, 3 * length)):\n",
    "        canvas = draw_horiz_dwn(canvas, point[1] - 2 * length, point[0], (193, 0, 32))  \n",
    "    if(point[1] in range(length * 3, 4 * length)):\n",
    "        canvas = draw_horiz_up(canvas, point[1] - 3 * length, point[0], (193, 0, 32))\n",
    "    return canvas\n",
    "\n",
    "#himg = draw(img, point1)\n",
    "\n",
    "canvas = copy.deepcopy(img)\n",
    "#canvas = draw(canvas, (26,391))\n",
    "for i in range(len(points)):\n",
    "    canvas = draw(canvas, points[i])\n",
    "plt.imshow(canvas)"
   ]
  },
  {
   "cell_type": "code",
   "execution_count": null,
   "metadata": {},
   "outputs": [],
   "source": []
  }
 ],
 "metadata": {
  "kernelspec": {
   "display_name": "Python 3",
   "language": "python",
   "name": "python3"
  },
  "language_info": {
   "codemirror_mode": {
    "name": "ipython",
    "version": 3
   },
   "file_extension": ".py",
   "mimetype": "text/x-python",
   "name": "python",
   "nbconvert_exporter": "python",
   "pygments_lexer": "ipython3",
   "version": "3.7.0"
  }
 },
 "nbformat": 4,
 "nbformat_minor": 2
}
